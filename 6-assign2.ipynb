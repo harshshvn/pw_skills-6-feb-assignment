{
 "cells": [
  {
   "cell_type": "code",
   "execution_count": null,
   "id": "98dac049-62ee-4ea7-8cfd-b5379c53a18c",
   "metadata": {},
   "outputs": [],
   "source": []
  },
  {
   "cell_type": "code",
   "execution_count": null,
   "id": "5410743d-8564-4312-b317-47d5e2094af2",
   "metadata": {},
   "outputs": [],
   "source": []
  },
  {
   "cell_type": "code",
   "execution_count": null,
   "id": "08bedeb9-0510-48a7-a65c-de7fab85c868",
   "metadata": {},
   "outputs": [],
   "source": []
  },
  {
   "cell_type": "code",
   "execution_count": 42,
   "id": "4b5dc25f-d7a5-49d8-9226-e47de5fb78bd",
   "metadata": {},
   "outputs": [
    {
     "name": "stdin",
     "output_type": "stream",
     "text": [
      "Enter the message  harsh \n"
     ]
    },
    {
     "name": "stdout",
     "output_type": "stream",
     "text": [
      "$»szihs$»\n"
     ]
    }
   ],
   "source": [
    "message=input(\"Enter the message\").lower()\n",
    "l1=[]\n",
    "for i in message:\n",
    "    if ord(i)==32:\n",
    "        l1.append(\"$\")\n",
    "    character=122-(ord(i)-97)\n",
    "    new_char=chr(character)\n",
    "    l1.append(new_char)\n",
    "encrypted_message=\"\"\n",
    "for i in l1:\n",
    "    encrypted_message+=i\n",
    "print(encrypted_message)\n",
    "\n",
    "    \n",
    "    \n",
    "    "
   ]
  },
  {
   "cell_type": "code",
   "execution_count": 39,
   "id": "73c61cb3-1c04-46c4-8ee7-6a935d19ff02",
   "metadata": {},
   "outputs": [
    {
     "data": {
      "text/plain": [
       "36"
      ]
     },
     "execution_count": 39,
     "metadata": {},
     "output_type": "execute_result"
    }
   ],
   "source": [
    "ord(\"$\")\n"
   ]
  },
  {
   "cell_type": "code",
   "execution_count": 20,
   "id": "23b7f37a-9114-4471-842d-6ca242bab1c2",
   "metadata": {},
   "outputs": [
    {
     "data": {
      "text/plain": [
       "'\\x81'"
      ]
     },
     "execution_count": 20,
     "metadata": {},
     "output_type": "execute_result"
    }
   ],
   "source": [
    "chr(104+25)\n"
   ]
  },
  {
   "cell_type": "code",
   "execution_count": 23,
   "id": "13f4f5c2-5452-4d34-b789-ddd24ef85822",
   "metadata": {},
   "outputs": [
    {
     "data": {
      "text/plain": [
       "115"
      ]
     },
     "execution_count": 23,
     "metadata": {},
     "output_type": "execute_result"
    }
   ],
   "source": [
    "ord(\"s\")\n"
   ]
  },
  {
   "cell_type": "code",
   "execution_count": null,
   "id": "3dea7561-4d0b-4fc3-923a-e030167ac28c",
   "metadata": {},
   "outputs": [],
   "source": []
  }
 ],
 "metadata": {
  "kernelspec": {
   "display_name": "Python 3 (ipykernel)",
   "language": "python",
   "name": "python3"
  },
  "language_info": {
   "codemirror_mode": {
    "name": "ipython",
    "version": 3
   },
   "file_extension": ".py",
   "mimetype": "text/x-python",
   "name": "python",
   "nbconvert_exporter": "python",
   "pygments_lexer": "ipython3",
   "version": "3.10.8"
  }
 },
 "nbformat": 4,
 "nbformat_minor": 5
}
